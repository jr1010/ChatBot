{
  "nbformat": 4,
  "nbformat_minor": 0,
  "metadata": {
    "colab": {
      "provenance": [],
      "authorship_tag": "ABX9TyM/48FvHW/PcDQonShJKL+M",
      "include_colab_link": true
    },
    "kernelspec": {
      "name": "python3",
      "display_name": "Python 3"
    },
    "language_info": {
      "name": "python"
    }
  },
  "cells": [
    {
      "cell_type": "markdown",
      "metadata": {
        "id": "view-in-github",
        "colab_type": "text"
      },
      "source": [
        "<a href=\"https://colab.research.google.com/github/jr1010/ChatBot/blob/main/MCV_Final_Project.ipynb\" target=\"_parent\"><img src=\"https://colab.research.google.com/assets/colab-badge.svg\" alt=\"Open In Colab\"/></a>"
      ]
    },
    {
      "cell_type": "markdown",
      "source": [
        "# EE5178 Modern Computer Vision Project\n",
        "\n",
        "## Low Light Object Detection and Classification of Mosquitoes"
      ],
      "metadata": {
        "id": "6pmIscZsfqnK"
      }
    },
    {
      "cell_type": "code",
      "source": [
        "# Importing required libraries\n",
        "# No\n",
        "\n",
        "\n",
        "import numpy as np\n",
        "import pandas as pd\n",
        "import torch\n",
        "import tensorflow as tf\n",
        "import torchvision\n",
        "import os\n",
        "from os import listdir\n",
        "import cv2\n",
        "\n",
        "import matplotlib.pyplot as plt\n",
        "%matplotlib inline\n",
        "%config InlineBackend.figure_format = 'svg'"
      ],
      "metadata": {
        "id": "GPVflTKYf_se"
      },
      "execution_count": null,
      "outputs": []
    },
    {
      "cell_type": "code",
      "source": [
        "!pip install kaggle -q\n",
        "!cp kaggle.json ~/.kaggle\n",
        "!chmod 600 ~/.kaggle/kaggle.json"
      ],
      "metadata": {
        "id": "k4C-o4pzhg9_"
      },
      "execution_count": null,
      "outputs": []
    },
    {
      "cell_type": "code",
      "source": [
        "# Loading the dataset\n",
        "\n",
        "!kaggle competitions download -c ee5178-mcv-project"
      ],
      "metadata": {
        "colab": {
          "base_uri": "https://localhost:8080/"
        },
        "id": "Qsne3wcwf6BN",
        "outputId": "1130076a-dc95-4e02-e458-a06d2e28d02c"
      },
      "execution_count": null,
      "outputs": [
        {
          "output_type": "stream",
          "name": "stdout",
          "text": [
            "ee5178-mcv-project.zip: Skipping, found more recently modified local copy (use --force to force download)\n"
          ]
        }
      ]
    },
    {
      "cell_type": "code",
      "source": [
        "!unzip -q ee5178-mcv-project.zip"
      ],
      "metadata": {
        "colab": {
          "base_uri": "https://localhost:8080/"
        },
        "id": "heTVEHhOhgLT",
        "outputId": "ed27600e-c69c-490d-aede-cac7ee29de20"
      },
      "execution_count": null,
      "outputs": [
        {
          "output_type": "stream",
          "name": "stdout",
          "text": [
            "replace final_data/sample_submission.csv? [y]es, [n]o, [A]ll, [N]one, [r]ename: "
          ]
        }
      ]
    },
    {
      "cell_type": "code",
      "source": [
        "images = []\n",
        "\n",
        "folder_dir = \"./final_data/train_dark/images\"\n",
        "\n",
        "count = 0\n",
        "for image in os.listdir(folder_dir):\n",
        "    if image.endswith(\".jpeg\"):\n",
        "      images.append(r\"./final_data/train_dark/images/\" + image)\n",
        "      count += 1\n",
        "print(f\"Process Completed. Images Recorded : {count}\")"
      ],
      "metadata": {
        "id": "J0B8RRDjjLak",
        "colab": {
          "base_uri": "https://localhost:8080/"
        },
        "outputId": "534928ca-57dd-4cbc-d9f7-f7c993221685"
      },
      "execution_count": null,
      "outputs": [
        {
          "output_type": "stream",
          "name": "stdout",
          "text": [
            "Process Completed. Images Recorded : 7500\n"
          ]
        }
      ]
    },
    {
      "cell_type": "code",
      "source": [
        "labels = []\n",
        "\n",
        "folder_dir = \"./final_data/train_dark/labels/\"\n",
        "\n",
        "count = 0\n",
        "for label in os.listdir(folder_dir):\n",
        "    with open(folder_dir+label) as f:\n",
        "        info = f.read()\n",
        "        labels.append(info.split())\n",
        "    count += 1\n",
        "\n",
        "print(f\"Process Completed. Images Recorded : {count}\")"
      ],
      "metadata": {
        "colab": {
          "base_uri": "https://localhost:8080/"
        },
        "id": "a9u0p2cNIila",
        "outputId": "12cd7a70-15d2-49a6-b879-4e4d61512cc5"
      },
      "execution_count": null,
      "outputs": [
        {
          "output_type": "stream",
          "name": "stdout",
          "text": [
            "Process Completed. Images Recorded : 7500\n"
          ]
        }
      ]
    },
    {
      "cell_type": "code",
      "source": [],
      "metadata": {
        "id": "v-IZr4N7LnzU"
      },
      "execution_count": null,
      "outputs": []
    }
  ]
}